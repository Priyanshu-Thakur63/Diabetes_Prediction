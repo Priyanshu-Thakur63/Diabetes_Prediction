{
 "cells": [
  {
   "cell_type": "code",
   "execution_count": 1,
   "id": "e919d097-ed84-4cfe-824b-9792fd1f234c",
   "metadata": {},
   "outputs": [],
   "source": [
    "# Import necessary libraries\n",
    "import numpy as np\n",
    "import pandas as pd\n",
    "from sklearn.model_selection import train_test_split\n",
    "from sklearn.preprocessing import StandardScaler\n",
    "from sklearn.neighbors import KNeighborsClassifier\n",
    "from sklearn.metrics import accuracy_score, classification_report, confusion_matrix\n",
    "from sklearn.datasets import load_diabetes"
   ]
  },
  {
   "cell_type": "code",
   "execution_count": 2,
   "id": "c03bf1ed-e701-4a39-a50c-c40e09cf06e4",
   "metadata": {},
   "outputs": [],
   "source": [
    "# The dataset can be downloaded from: https://www.kaggle.com/uciml/pima-indians-diabetes-database\n",
    "url = \"https://raw.githubusercontent.com/jbrownlee/Datasets/master/pima-indians-diabetes.data.csv\"\n",
    "names = ['preg', 'plas', 'pres', 'skin', 'test', 'mass', 'pedi', 'age', 'class']\n",
    "dataset = pd.read_csv(url, names=names)"
   ]
  },
  {
   "cell_type": "code",
   "execution_count": 3,
   "id": "0bde8db9-1396-46ec-a6b9-a309d74752dc",
   "metadata": {},
   "outputs": [],
   "source": [
    "# Split dataset into features (X) and target (y)\n",
    "X = dataset.iloc[:, :-1].values\n",
    "y = dataset.iloc[:, -1].values\n",
    "\n",
    "# Split data into training and test sets\n",
    "X_train, X_test, y_train, y_test = train_test_split(X, y, test_size=0.2, random_state=42)\n"
   ]
  },
  {
   "cell_type": "code",
   "execution_count": 4,
   "id": "183c5d9d-e351-495d-bb97-a427ea6ae489",
   "metadata": {},
   "outputs": [],
   "source": [
    "# Feature scaling (important for KNN as it's distance-based)\n",
    "scaler = StandardScaler()\n",
    "X_train = scaler.fit_transform(X_train)\n",
    "X_test = scaler.transform(X_test)\n",
    "\n",
    "# Create KNN classifier\n",
    "# You can experiment with different n_neighbors values\n",
    "knn = KNeighborsClassifier(n_neighbors=5, metric='euclidean')"
   ]
  },
  {
   "cell_type": "code",
   "execution_count": 5,
   "id": "717c30af-9e82-4fc6-8ab9-66f40800591d",
   "metadata": {},
   "outputs": [],
   "source": [
    "# Train the model\n",
    "knn.fit(X_train, y_train)\n",
    "\n",
    "# Make predictions\n",
    "y_pred = knn.predict(X_test)\n"
   ]
  },
  {
   "cell_type": "code",
   "execution_count": 6,
   "id": "b110c8df-7646-49c4-a0f9-2b63c464306f",
   "metadata": {},
   "outputs": [
    {
     "name": "stdout",
     "output_type": "stream",
     "text": [
      "Accuracy: 0.6948051948051948\n",
      "\n",
      "Confusion Matrix:\n",
      "[[79 20]\n",
      " [27 28]]\n",
      "\n",
      "Classification Report:\n",
      "              precision    recall  f1-score   support\n",
      "\n",
      "           0       0.75      0.80      0.77        99\n",
      "           1       0.58      0.51      0.54        55\n",
      "\n",
      "    accuracy                           0.69       154\n",
      "   macro avg       0.66      0.65      0.66       154\n",
      "weighted avg       0.69      0.69      0.69       154\n",
      "\n"
     ]
    }
   ],
   "source": [
    "# Evaluate the model\n",
    "print(\"Accuracy:\", accuracy_score(y_test, y_pred))\n",
    "print(\"\\nConfusion Matrix:\")\n",
    "print(confusion_matrix(y_test, y_pred))\n",
    "print(\"\\nClassification Report:\")\n",
    "print(classification_report(y_test, y_pred))"
   ]
  },
  {
   "cell_type": "code",
   "execution_count": 7,
   "id": "b239dd7d-cd2c-4f1a-bdee-e93fbda8767e",
   "metadata": {},
   "outputs": [],
   "source": [
    "# to make new predictions (example)\n",
    "def predict_diabetes(new_data):\n",
    "    \"\"\"\n",
    "    Predict diabetes for new data points\n",
    "    new_data: Should be a 2D array with the same features as training data\n",
    "    \"\"\"\n",
    "    # Scale the new data using the same scaler\n",
    "    new_data_scaled = scaler.transform(new_data)\n",
    "    prediction = knn.predict(new_data_scaled)\n",
    "    proba = knn.predict_proba(new_data_scaled)\n",
    "    return prediction, proba"
   ]
  },
  {
   "cell_type": "code",
   "execution_count": null,
   "id": "b9420ac3-0ace-49f1-9619-03d557943470",
   "metadata": {},
   "outputs": [],
   "source": []
  }
 ],
 "metadata": {
  "kernelspec": {
   "display_name": "Python 3 (ipykernel)",
   "language": "python",
   "name": "python3"
  },
  "language_info": {
   "codemirror_mode": {
    "name": "ipython",
    "version": 3
   },
   "file_extension": ".py",
   "mimetype": "text/x-python",
   "name": "python",
   "nbconvert_exporter": "python",
   "pygments_lexer": "ipython3",
   "version": "3.13.2"
  }
 },
 "nbformat": 4,
 "nbformat_minor": 5
}
